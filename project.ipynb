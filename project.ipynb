{
 "cells": [
  {
   "cell_type": "markdown",
   "id": "2ce75961",
   "metadata": {},
   "source": [
    "# Obesity-Prediction-Data-Science\n",
    "Data Science project for Sem-5\n",
    "\n",
    "Prediction of levels of obesity by using machine learning classification models.\n",
    "\n",
    "Data collected from [UCI Machine Learning Repository](https://archive.ics.uci.edu/ml/datasets/Estimation+of+obesity+levels+based+on+eating+habits+and+physical+condition+). Official publication of the research that provides data can be accessed from [here](https://www.sciencedirect.com/science/article/pii/S2352340919306985?via%3Dihub).\n",
    "\n",
    "## Data Set Information:\n",
    "\n",
    "This dataset include data for the estimation of obesity levels in individuals from the countries of Mexico, Peru and Colombia, based on their eating habits and physical condition. The data contains 17 attributes and 2111 records, the records are labeled with the class variable NObesity (Obesity Level), that allows classification of the data using the values of Insufficient Weight, Normal Weight, Overweight Level I, Overweight Level II, Obesity Type I, Obesity Type II and Obesity Type III. 77% of the data was generated synthetically using the Weka tool and the SMOTE filter, 23% of the data was collected directly from users through a web platform.\n"
   ]
  },
  {
   "cell_type": "markdown",
   "id": "f88c8305",
   "metadata": {},
   "source": []
  },
  {
   "cell_type": "markdown",
   "id": "ce338a94",
   "metadata": {},
   "source": [
    "### Imports"
   ]
  },
  {
   "cell_type": "code",
   "execution_count": 12,
   "id": "5a9f01ed",
   "metadata": {},
   "outputs": [],
   "source": [
    "#import packages\n",
    "import csv\n",
    "import pandas as pd\n",
    "import numpy as np\n",
    "import matplotlib.pyplot as plt\n",
    "import seaborn as sns"
   ]
  },
  {
   "cell_type": "code",
   "execution_count": 13,
   "id": "5f2bcceb",
   "metadata": {},
   "outputs": [],
   "source": [
    "#read data\n",
    "df = pd.read_csv(\"ObesityDataSet_raw_and_data_sinthetic.csv\")"
   ]
  },
  {
   "cell_type": "code",
   "execution_count": 45,
   "id": "b360637a",
   "metadata": {},
   "outputs": [
    {
     "data": {
      "text/html": [
       "<div>\n",
       "<style scoped>\n",
       "    .dataframe tbody tr th:only-of-type {\n",
       "        vertical-align: middle;\n",
       "    }\n",
       "\n",
       "    .dataframe tbody tr th {\n",
       "        vertical-align: top;\n",
       "    }\n",
       "\n",
       "    .dataframe thead th {\n",
       "        text-align: right;\n",
       "    }\n",
       "</style>\n",
       "<table border=\"1\" class=\"dataframe\">\n",
       "  <thead>\n",
       "    <tr style=\"text-align: right;\">\n",
       "      <th></th>\n",
       "      <th>Gender</th>\n",
       "      <th>Age</th>\n",
       "      <th>Height</th>\n",
       "      <th>Weight</th>\n",
       "      <th>family_history_with_overweight</th>\n",
       "      <th>FAVC</th>\n",
       "      <th>FCVC</th>\n",
       "      <th>NCP</th>\n",
       "      <th>CAEC</th>\n",
       "      <th>SMOKE</th>\n",
       "      <th>CH2O</th>\n",
       "      <th>SCC</th>\n",
       "      <th>FAF</th>\n",
       "      <th>TUE</th>\n",
       "      <th>CALC</th>\n",
       "      <th>MTRANS</th>\n",
       "      <th>result</th>\n",
       "    </tr>\n",
       "  </thead>\n",
       "  <tbody>\n",
       "    <tr>\n",
       "      <th>0</th>\n",
       "      <td>Female</td>\n",
       "      <td>21.0</td>\n",
       "      <td>1.62</td>\n",
       "      <td>64.0</td>\n",
       "      <td>yes</td>\n",
       "      <td>no</td>\n",
       "      <td>2.0</td>\n",
       "      <td>3.0</td>\n",
       "      <td>Sometimes</td>\n",
       "      <td>no</td>\n",
       "      <td>2.0</td>\n",
       "      <td>no</td>\n",
       "      <td>0.0</td>\n",
       "      <td>1.0</td>\n",
       "      <td>no</td>\n",
       "      <td>Public_Transportation</td>\n",
       "      <td>Normal_Weight</td>\n",
       "    </tr>\n",
       "    <tr>\n",
       "      <th>1</th>\n",
       "      <td>Female</td>\n",
       "      <td>21.0</td>\n",
       "      <td>1.52</td>\n",
       "      <td>56.0</td>\n",
       "      <td>yes</td>\n",
       "      <td>no</td>\n",
       "      <td>3.0</td>\n",
       "      <td>3.0</td>\n",
       "      <td>Sometimes</td>\n",
       "      <td>yes</td>\n",
       "      <td>3.0</td>\n",
       "      <td>yes</td>\n",
       "      <td>3.0</td>\n",
       "      <td>0.0</td>\n",
       "      <td>Sometimes</td>\n",
       "      <td>Public_Transportation</td>\n",
       "      <td>Normal_Weight</td>\n",
       "    </tr>\n",
       "    <tr>\n",
       "      <th>2</th>\n",
       "      <td>Male</td>\n",
       "      <td>23.0</td>\n",
       "      <td>1.80</td>\n",
       "      <td>77.0</td>\n",
       "      <td>yes</td>\n",
       "      <td>no</td>\n",
       "      <td>2.0</td>\n",
       "      <td>3.0</td>\n",
       "      <td>Sometimes</td>\n",
       "      <td>no</td>\n",
       "      <td>2.0</td>\n",
       "      <td>no</td>\n",
       "      <td>2.0</td>\n",
       "      <td>1.0</td>\n",
       "      <td>Frequently</td>\n",
       "      <td>Public_Transportation</td>\n",
       "      <td>Normal_Weight</td>\n",
       "    </tr>\n",
       "    <tr>\n",
       "      <th>3</th>\n",
       "      <td>Male</td>\n",
       "      <td>27.0</td>\n",
       "      <td>1.80</td>\n",
       "      <td>87.0</td>\n",
       "      <td>no</td>\n",
       "      <td>no</td>\n",
       "      <td>3.0</td>\n",
       "      <td>3.0</td>\n",
       "      <td>Sometimes</td>\n",
       "      <td>no</td>\n",
       "      <td>2.0</td>\n",
       "      <td>no</td>\n",
       "      <td>2.0</td>\n",
       "      <td>0.0</td>\n",
       "      <td>Frequently</td>\n",
       "      <td>Walking</td>\n",
       "      <td>Overweight_Level_I</td>\n",
       "    </tr>\n",
       "    <tr>\n",
       "      <th>4</th>\n",
       "      <td>Male</td>\n",
       "      <td>22.0</td>\n",
       "      <td>1.78</td>\n",
       "      <td>89.8</td>\n",
       "      <td>no</td>\n",
       "      <td>no</td>\n",
       "      <td>2.0</td>\n",
       "      <td>1.0</td>\n",
       "      <td>Sometimes</td>\n",
       "      <td>no</td>\n",
       "      <td>2.0</td>\n",
       "      <td>no</td>\n",
       "      <td>0.0</td>\n",
       "      <td>0.0</td>\n",
       "      <td>Sometimes</td>\n",
       "      <td>Public_Transportation</td>\n",
       "      <td>Overweight_Level_II</td>\n",
       "    </tr>\n",
       "  </tbody>\n",
       "</table>\n",
       "</div>"
      ],
      "text/plain": [
       "   Gender   Age  Height  Weight family_history_with_overweight FAVC  FCVC  \\\n",
       "0  Female  21.0    1.62    64.0                            yes   no   2.0   \n",
       "1  Female  21.0    1.52    56.0                            yes   no   3.0   \n",
       "2    Male  23.0    1.80    77.0                            yes   no   2.0   \n",
       "3    Male  27.0    1.80    87.0                             no   no   3.0   \n",
       "4    Male  22.0    1.78    89.8                             no   no   2.0   \n",
       "\n",
       "   NCP       CAEC SMOKE  CH2O  SCC  FAF  TUE        CALC  \\\n",
       "0  3.0  Sometimes    no   2.0   no  0.0  1.0          no   \n",
       "1  3.0  Sometimes   yes   3.0  yes  3.0  0.0   Sometimes   \n",
       "2  3.0  Sometimes    no   2.0   no  2.0  1.0  Frequently   \n",
       "3  3.0  Sometimes    no   2.0   no  2.0  0.0  Frequently   \n",
       "4  1.0  Sometimes    no   2.0   no  0.0  0.0   Sometimes   \n",
       "\n",
       "                  MTRANS               result  \n",
       "0  Public_Transportation        Normal_Weight  \n",
       "1  Public_Transportation        Normal_Weight  \n",
       "2  Public_Transportation        Normal_Weight  \n",
       "3                Walking   Overweight_Level_I  \n",
       "4  Public_Transportation  Overweight_Level_II  "
      ]
     },
     "execution_count": 45,
     "metadata": {},
     "output_type": "execute_result"
    }
   ],
   "source": [
    "df.head()"
   ]
  },
  {
   "cell_type": "markdown",
   "id": "b318585c",
   "metadata": {},
   "source": [
    "##### Attributes consisting of\n",
    "\n",
    "* What is your gender? (Gender) = Female, Male  \n",
    "* What is your age? (Age) = Numeric value  \n",
    "* What is your height? (Height) = Numeric value in meters  \n",
    "* What is your weight? (Weight) = Numeric value in Kilograms  \n",
    "* Has a family member suffered or suffers from overweight? = Yes, No  \n",
    "* Do you eat high caloric food frequenlty? (FAVC) = Yes, No  \n",
    "* Do you usually eat vegatables in your meals? (FCVC) = 1-3 follow by usually meal  \n",
    "* How many main means do you have daily? (NCP) = Between 1 y 2, 3, more than 4  \n",
    "* Do you eat any food between mean? (CAEC) = No, Sometimes, Frequently, Always  \n",
    "* Do you smoke? (Smoke) = Yes, No  \n",
    "* How much water do you drink daily? (CH20) = less than a liter, between 1 and 2L, more than 2 L  \n",
    "* Do you monitor the calories you eat daily? (SCC) = Yes, No  \n",
    "* How often do you have physical activity? (FAF) = I do not have, 1 or 2 days, 2 or 4 days, 4 or 5 day  \n",
    "* How much time do you use technological devices? (TUE) = 0-2 hours, 3-5 hours, more than 5 hours  \n",
    "* How often do you drink alcohol? (CALC) =I don't drink, Sometimes, Frequently, Always  \n",
    "* Which transportation do you usually use? (MTRANS) = Automobile, Motorbike, Bike Public Transportation, Walking  \n",
    "\n",
    "Associated task: regression, classification, clustering"
   ]
  },
  {
   "cell_type": "markdown",
   "id": "66cc4613",
   "metadata": {},
   "source": [
    "### Data Preprocessing"
   ]
  },
  {
   "cell_type": "code",
   "execution_count": 49,
   "id": "8927d7cb",
   "metadata": {},
   "outputs": [],
   "source": [
    "df = df.rename(columns={'NObeyesdad': 'result'})"
   ]
  },
  {
   "cell_type": "code",
   "execution_count": 50,
   "id": "3520adeb",
   "metadata": {},
   "outputs": [
    {
     "name": "stdout",
     "output_type": "stream",
     "text": [
      "<class 'pandas.core.frame.DataFrame'>\n",
      "RangeIndex: 2111 entries, 0 to 2110\n",
      "Data columns (total 17 columns):\n",
      " #   Column                          Non-Null Count  Dtype  \n",
      "---  ------                          --------------  -----  \n",
      " 0   Gender                          2111 non-null   object \n",
      " 1   Age                             2111 non-null   float64\n",
      " 2   Height                          2111 non-null   float64\n",
      " 3   Weight                          2111 non-null   float64\n",
      " 4   family_history_with_overweight  2111 non-null   object \n",
      " 5   FAVC                            2111 non-null   object \n",
      " 6   FCVC                            2111 non-null   float64\n",
      " 7   NCP                             2111 non-null   float64\n",
      " 8   CAEC                            2111 non-null   object \n",
      " 9   SMOKE                           2111 non-null   object \n",
      " 10  CH2O                            2111 non-null   float64\n",
      " 11  SCC                             2111 non-null   object \n",
      " 12  FAF                             2111 non-null   float64\n",
      " 13  TUE                             2111 non-null   float64\n",
      " 14  CALC                            2111 non-null   object \n",
      " 15  MTRANS                          2111 non-null   object \n",
      " 16  result                          2111 non-null   object \n",
      "dtypes: float64(8), object(9)\n",
      "memory usage: 280.5+ KB\n"
     ]
    }
   ],
   "source": [
    "df.info()"
   ]
  },
  {
   "cell_type": "code",
   "execution_count": 7,
   "id": "e26352f2",
   "metadata": {},
   "outputs": [
    {
     "data": {
      "text/plain": [
       "(2111, 17)"
      ]
     },
     "execution_count": 7,
     "metadata": {},
     "output_type": "execute_result"
    }
   ],
   "source": [
    "df.shape"
   ]
  },
  {
   "cell_type": "code",
   "execution_count": 35,
   "id": "865a06a6",
   "metadata": {
    "scrolled": true
   },
   "outputs": [
    {
     "data": {
      "text/plain": [
       "Gender                            0\n",
       "Age                               0\n",
       "Height                            0\n",
       "Weight                            0\n",
       "family_history_with_overweight    0\n",
       "FAVC                              0\n",
       "FCVC                              0\n",
       "NCP                               0\n",
       "CAEC                              0\n",
       "SMOKE                             0\n",
       "CH2O                              0\n",
       "SCC                               0\n",
       "FAF                               0\n",
       "TUE                               0\n",
       "CALC                              0\n",
       "MTRANS                            0\n",
       "result                            0\n",
       "dtype: int64"
      ]
     },
     "execution_count": 35,
     "metadata": {},
     "output_type": "execute_result"
    }
   ],
   "source": [
    "df.isnull().sum()\n",
    "# no data cleaning required"
   ]
  },
  {
   "cell_type": "markdown",
   "id": "6fc90fdb",
   "metadata": {},
   "source": [
    "* The data contains 2111 records with 17 columns\n",
    "* The data loads as text and float objects for most of the objects. However we know that some are float, categorical and ordinal\n",
    "* All of the records are unique and contain no null values\n",
    "* Height and Weight are included however they have a direct correlation to each other and our target variable"
   ]
  },
  {
   "cell_type": "markdown",
   "id": "001a1644",
   "metadata": {},
   "source": [
    "### Exploratory Data Analysis"
   ]
  },
  {
   "cell_type": "code",
   "execution_count": 54,
   "id": "a50bb78b",
   "metadata": {},
   "outputs": [],
   "source": [
    "def count_values(dataset, cat_variable, order = None):\n",
    "    \"\"\"\n",
    "    Function: Counts values in each category and displays them on a plot.\n",
    "    \n",
    "    Parameters: Dataset, category feature, and order of appearance (order is optional).\n",
    "    \"\"\"\n",
    "    ax = sns.countplot(x = cat_variable, data = dataset, palette = sns.cubehelix_palette(), order = order)\n",
    "    for p in ax.patches:\n",
    "        ax.annotate(f\"\\n{p.get_height()}\", (p.get_x()+0.2, p.get_height()), \n",
    "                    ha = \"center\", va = \"top\", color = \"white\", size = 10)\n",
    "    \n",
    "    plt.title(f\"Number of items in each {cat_variable} category\")\n",
    "    plt.show()"
   ]
  },
  {
   "cell_type": "code",
   "execution_count": 60,
   "id": "3f122310",
   "metadata": {},
   "outputs": [],
   "source": [
    "def plot_distribution(dataset, feature):\n",
    "    \"\"\"\n",
    "    Function: Computes and displays distribution of features with continuous values; plots their mean and median.\n",
    "    \n",
    "    Parameters: Dataset and feature with continuous values.\n",
    "    \"\"\"\n",
    "    plt.hist(dataset[feature], bins = \"fd\")\n",
    "    \n",
    "    plt.axvline(dataset[feature].mean(), color = \"red\", label = \"mean\")\n",
    "    plt.axvline(dataset[feature].median(), color = \"orange\", label = \"median\")\n",
    "    \n",
    "    plt.xlabel(f\"{feature}\")\n",
    "    plt.ylabel(\"Count\")\n",
    "    plt.legend()\n",
    "    plt.title(f\"Distribution of values in {feature}\")\n",
    "    plt.show()"
   ]
  },
  {
   "cell_type": "code",
   "execution_count": 73,
   "id": "6eaa2b4c",
   "metadata": {},
   "outputs": [],
   "source": [
    "def cross_plot(dataset, lead_category, sup_category, order = None):\n",
    "    \"\"\"\n",
    "    Function: Plots interaction between two categorical variables.\n",
    "    \n",
    "    Parameters: Dataset, lead category, suplemental category, and order of appearance (order is optional).\n",
    "    \"\"\"\n",
    "    \n",
    "    sns.countplot(x = lead_category, hue = sup_category, data = dataset, order = order, palette=\"Blues_r\")\n",
    "    \n",
    "    plt.show()"
   ]
  },
  {
   "cell_type": "markdown",
   "id": "bb2df07c",
   "metadata": {},
   "source": [
    "#### Obesity Levels"
   ]
  },
  {
   "cell_type": "code",
   "execution_count": 64,
   "id": "b416714d",
   "metadata": {},
   "outputs": [],
   "source": [
    "weight_order=  [\"Insufficient_Weight\", \"Normal_Weight\", \"Overweight_Level_I\", \"Overweight_Level_II\", \"Obesity_Type_I\", \"Obesity_Type_II\", \"Obesity_Type_III\"]"
   ]
  },
  {
   "cell_type": "code",
   "execution_count": 65,
   "id": "0707d334",
   "metadata": {},
   "outputs": [
    {
     "data": {
      "image/png": "[encoded data removed]",
      "text/plain": [
       "<Figure size 1152x576 with 1 Axes>"
      ]
     },
     "metadata": {},
     "output_type": "display_data"
    }
   ],
   "source": [
    "count_values(df, \"result\", weight_order) "
   ]
  },
  {
   "cell_type": "markdown",
   "id": "75dbe24e",
   "metadata": {},
   "source": [
    "* 351 instances are belong to \"obesity_type_1\"; more than 250 instances are belong to \"insufficient_weight\" class.\n",
    "\n",
    "* The plot shows the dataset is balanced; only \"Obese Type I\" class slightly outnumber the other categories."
   ]
  },
  {
   "cell_type": "markdown",
   "id": "d310a6cc",
   "metadata": {},
   "source": [
    "#### Gender"
   ]
  },
  {
   "cell_type": "code",
   "execution_count": 59,
   "id": "a6abc3a7",
   "metadata": {},
   "outputs": [
    {
     "data": {
      "image/png": "[encoded data removed]",
      "text/plain": [
       "<Figure size 1152x576 with 1 Axes>"
      ]
     },
     "metadata": {},
     "output_type": "display_data"
    }
   ],
   "source": [
    "count_values(df, \"Gender\")"
   ]
  },
  {
   "cell_type": "markdown",
   "id": "2c94c118",
   "metadata": {},
   "source": [
    "There are almost an equal number of females and males in the dataset. Data is available for slightly more men than women but this does not make it imbalanced."
   ]
  },
  {
   "cell_type": "code",
   "execution_count": 76,
   "id": "bb506750",
   "metadata": {},
   "outputs": [
    {
     "data": {
      "image/png": "[encoded data removed]",
      "text/plain": [
       "<Figure size 1152x576 with 1 Axes>"
      ]
     },
     "metadata": {},
     "output_type": "display_data"
    }
   ],
   "source": [
    "cross_plot(df, \"result\", \"Gender\", weight_order)"
   ]
  },
  {
   "cell_type": "markdown",
   "id": "82bc9445",
   "metadata": {},
   "source": [
    "* Women are more likely to have \"Insufficient weight\" than men. On the other hand, there are more obese men than women, save in the last, extreme obesity category.\n",
    "* Females do not have \"obesity_type_2\". males do not have \"obesity_type_3\""
   ]
  },
  {
   "cell_type": "markdown",
   "id": "81399ddf",
   "metadata": {},
   "source": [
    "#### Age"
   ]
  },
  {
   "cell_type": "code",
   "execution_count": 77,
   "id": "9a6e6ae0",
   "metadata": {},
   "outputs": [
    {
     "data": {
      "image/png": "[encoded data removed]",
      "text/plain": [
       "<Figure size 1152x576 with 1 Axes>"
      ]
     },
     "metadata": {},
     "output_type": "display_data"
    }
   ],
   "source": [
    "plot_distribution(df, \"Age\")"
   ]
  },
  {
   "cell_type": "code",
   "execution_count": 78,
   "id": "1c5559fc",
   "metadata": {},
   "outputs": [
    {
     "data": {
      "text/plain": [
       "count    2111.000000\n",
       "mean       24.312600\n",
       "std         6.345968\n",
       "min        14.000000\n",
       "25%        19.947192\n",
       "50%        22.777890\n",
       "75%        26.000000\n",
       "max        61.000000\n",
       "Name: Age, dtype: float64"
      ]
     },
     "execution_count": 78,
     "metadata": {},
     "output_type": "execute_result"
    }
   ],
   "source": [
    "df[\"Age\"].describe()"
   ]
  },
  {
   "cell_type": "markdown",
   "id": "4fef363e",
   "metadata": {},
   "source": [
    "* We can see that mostly young people were joined the survey.\n",
    "\n",
    "* Top 3 ages: 21, 18, 19"
   ]
  },
  {
   "cell_type": "code",
   "execution_count": null,
   "id": "1f15aa74",
   "metadata": {},
   "outputs": [],
   "source": []
  }
 ],
 "metadata": {
  "kernelspec": {
   "display_name": "Python 3 (ipykernel)",
   "language": "python",
   "name": "python3"
  },
  "language_info": {
   "codemirror_mode": {
    "name": "ipython",
    "version": 3
   },
   "file_extension": ".py",
   "mimetype": "text/x-python",
   "name": "python",
   "nbconvert_exporter": "python",
   "pygments_lexer": "ipython3",
   "version": "3.9.2"
  }
 },
 "nbformat": 4,
 "nbformat_minor": 5
}
